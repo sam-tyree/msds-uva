{
 "cells": [
  {
   "cell_type": "code",
   "execution_count": 11,
   "metadata": {},
   "outputs": [
    {
     "name": "stdout",
     "output_type": "stream",
     "text": [
      "Sam Tyree\r\n"
     ]
    }
   ],
   "source": [
    "# 1. Print your name on terminal.\n",
    "\n",
    "!echo \"Sam Tyree\""
   ]
  },
  {
   "cell_type": "code",
   "execution_count": 13,
   "metadata": {},
   "outputs": [
    {
     "name": "stdout",
     "output_type": "stream",
     "text": [
      "['/Users/sam/Documents/My Documents/Grad School/CS_5010']\n"
     ]
    }
   ],
   "source": [
    "# 2. print your working directory.\n",
    "\n",
    "cur_dir = !pwd\n",
    "print(cur_dir)"
   ]
  },
  {
   "cell_type": "code",
   "execution_count": 23,
   "metadata": {},
   "outputs": [
    {
     "name": "stdout",
     "output_type": "stream",
     "text": [
      "/Users/sam/Documents\n",
      "/Users/sam\n",
      "/Users\n"
     ]
    }
   ],
   "source": [
    "# 3. Set your working dir to your home dir with three different commands.\n",
    "\n",
    "%cd /Users/sam/Documents\n",
    "%cd /Users/sam\n",
    "%cd .."
   ]
  },
  {
   "cell_type": "code",
   "execution_count": 21,
   "metadata": {},
   "outputs": [
    {
     "name": "stdout",
     "output_type": "stream",
     "text": [
      "/Users/sam/Documents/My Documents/Grad School/CS_5010\n"
     ]
    }
   ],
   "source": [
    "# 4. change your directory to the directory of your Jupyter notebook.\n",
    "\n",
    "%cd /Users/sam/Documents/My Documents/Grad School/CS_5010"
   ]
  },
  {
   "cell_type": "code",
   "execution_count": 30,
   "metadata": {},
   "outputs": [
    {
     "name": "stdout",
     "output_type": "stream",
     "text": [
      "/Users/sam/Documents/My Documents/Grad School/CS_5010\n"
     ]
    }
   ],
   "source": [
    "# 5. Use `touch` to make a txt file and write `hello world` in that file using output redirection: `>`. Append, your name by `>>`.\n",
    "\n",
    "%cd /Users/sam/Documents/My Documents/Grad School/CS_5010\n",
    "!touch tmp.txt\n",
    "!echo hello world > tmp.txt\n",
    "!echo Sam Tyree >> tmp.txt"
   ]
  },
  {
   "cell_type": "code",
   "execution_count": 45,
   "metadata": {},
   "outputs": [
    {
     "name": "stdout",
     "output_type": "stream",
     "text": [
      "/Users/sam/Documents/My Documents/Grad School/CS_5010\n",
      "hello world\r\n",
      "Sam Tyree\r\n"
     ]
    }
   ],
   "source": [
    "# 6. show the contents of the file on the screen (use the address of the file) \n",
    "\n",
    "%cd /Users/sam/Documents/My Documents/Grad School/CS_5010\n",
    "!echo \"$(<tmp.txt)\""
   ]
  },
  {
   "cell_type": "code",
   "execution_count": 51,
   "metadata": {},
   "outputs": [
    {
     "name": "stdout",
     "output_type": "stream",
     "text": [
      "       4 tmp.txt\n",
      "      22 tmp.txt\n",
      "       2 tmp.txt\n",
      "hello world\n",
      "Sam Tyree\n"
     ]
    }
   ],
   "source": [
    "# 7. apply commands `wc` and `cat` on your txt file and explain what they do (if your txt file is big use `less` instead of `cat`).\n",
    "\n",
    "!wc -w tmp.txt #prints the word count in the file\n",
    "!wc -m tmp.txt #prints the character count in the file\n",
    "!wc -l tmp.txt #prints the number of lines in the file\n",
    "\n",
    "!cat tmp.txt #prints the contents of the file"
   ]
  },
  {
   "cell_type": "code",
   "execution_count": 53,
   "metadata": {},
   "outputs": [
    {
     "name": "stdout",
     "output_type": "stream",
     "text": [
      "  % Total    % Received % Xferd  Average Speed   Time    Time     Time  Current\n",
      "                                 Dload  Upload   Total   Spent    Left  Speed\n",
      "100 78297  100 78297    0     0   148k      0 --:--:-- --:--:-- --:--:--  148k\n"
     ]
    }
   ],
   "source": [
    "# 8. use `curl` to download a dataset from the web.\n",
    "# make a new folder inside your current directory and cd in that directory and move the downloaded file to this new directory.\n",
    "\n",
    "!curl -o hockey_data https://www.icydata.hockey/team_stats/29\n",
    "!mkdir hockey_fldr\n",
    "!mv hockey_data hockey_fldr"
   ]
  },
  {
   "cell_type": "code",
   "execution_count": 62,
   "metadata": {},
   "outputs": [
    {
     "name": "stdout",
     "output_type": "stream",
     "text": [
      "/Users/sam/Documents/My Documents/Grad School/CS_5010/hockey_fldr\n",
      "<!DOCTYPE html>\r\n",
      "<!--\r\n",
      "IIIIIIIIII                                           DDDDDDDDDDDDD                                 tttt\r\n",
      "I::::::::I                                           D::::::::::::DDD                           ttt:::t\r\n",
      "I::::::::I                                           D:::::::::::::::DD                         t:::::t\r\n"
     ]
    }
   ],
   "source": [
    "# 9. Apply `head -n 5 {}` to a print the first 5 lines of your file (`tail` is similar). \n",
    "%cd /Users/sam/Documents/My Documents/Grad School/CS_5010/hockey_fldr\n",
    "!head -n 5 hockey_data"
   ]
  },
  {
   "cell_type": "code",
   "execution_count": 20,
   "metadata": {},
   "outputs": [
    {
     "name": "stdout",
     "output_type": "stream",
     "text": [
      "Reinitialized existing Git repository in /Users/sam/Documents/GitHub/msds-uva/.git/\r\n"
     ]
    }
   ],
   "source": [
    "# 10. Since you know how to use git; write a bash command where you commit the changes in your code with a comment and then push it to a remote Github repository.\n",
    "\n",
    "!git init /Users/sam/Documents/GitHub/msds-uva"
   ]
  },
  {
   "cell_type": "code",
   "execution_count": 28,
   "metadata": {},
   "outputs": [
    {
     "name": "stdout",
     "output_type": "stream",
     "text": [
      "Reinitialized existing Git repository in /Users/sam/Documents/GitHub/msds-uva/.git/\n",
      "usage: cp [-R [-H | -L | -P]] [-fi | -n] [-apvXc] source_file target_file\n",
      "       cp [-R [-H | -L | -P]] [-fi | -n] [-apvXc] source_file ... target_directory\n",
      "[master 85eecf6] Test\n",
      " 2 files changed, 10 insertions(+), 9 deletions(-)\n",
      "fatal: 'origin' does not appear to be a git repository\n",
      "fatal: Could not read from remote repository.\n",
      "\n",
      "Please make sure you have the correct access rights\n",
      "and the repository exists.\n"
     ]
    }
   ],
   "source": [
    "# !git add Unix_Command_Line_Tyree.ipynb\n",
    "!git clone https://github.com/sam-tyree/msds-uva\n",
    "!cp /Users/sam/Documents/My Documents/Grad School/CS_5010/Module 10/Unix_Command_Line_Tyree.ipynb\n",
    "!git add -A\n",
    "!git commit -m \"Test\"\n",
    "!git push origin master"
   ]
  },
  {
   "cell_type": "code",
   "execution_count": null,
   "metadata": {},
   "outputs": [],
   "source": []
  }
 ],
 "metadata": {
  "kernelspec": {
   "display_name": "Python 3",
   "language": "python",
   "name": "python3"
  },
  "language_info": {
   "codemirror_mode": {
    "name": "ipython",
    "version": 3
   },
   "file_extension": ".py",
   "mimetype": "text/x-python",
   "name": "python",
   "nbconvert_exporter": "python",
   "pygments_lexer": "ipython3",
   "version": "3.7.4"
  },
  "latex_envs": {
   "LaTeX_envs_menu_present": true,
   "autoclose": false,
   "autocomplete": true,
   "bibliofile": "biblio.bib",
   "cite_by": "apalike",
   "current_citInitial": 1,
   "eqLabelWithNumbers": true,
   "eqNumInitial": 1,
   "hotkeys": {
    "equation": "Ctrl-E",
    "itemize": "Ctrl-I"
   },
   "labels_anchors": false,
   "latex_user_defs": false,
   "report_style_numbering": false,
   "user_envs_cfg": false
  },
  "varInspector": {
   "cols": {
    "lenName": 16,
    "lenType": 16,
    "lenVar": 40
   },
   "kernels_config": {
    "python": {
     "delete_cmd_postfix": "",
     "delete_cmd_prefix": "del ",
     "library": "var_list.py",
     "varRefreshCmd": "print(var_dic_list())"
    },
    "r": {
     "delete_cmd_postfix": ") ",
     "delete_cmd_prefix": "rm(",
     "library": "var_list.r",
     "varRefreshCmd": "cat(var_dic_list()) "
    }
   },
   "types_to_exclude": [
    "module",
    "function",
    "builtin_function_or_method",
    "instance",
    "_Feature"
   ],
   "window_display": true
  }
 },
 "nbformat": 4,
 "nbformat_minor": 2
}
